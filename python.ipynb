{
 "cells": [
  {
   "cell_type": "markdown",
   "metadata": {},
   "source": [
    "# OOP"
   ]
  },
  {
   "cell_type": "code",
   "execution_count": 107,
   "metadata": {},
   "outputs": [],
   "source": [
    "class Car:\n",
    "    def __init__(self):\n",
    "        self.wheels=4\n",
    "             \n",
    "    def set_price(self, price):\n",
    "        self.price=price\n",
    "         \n",
    "    def get_price(self):\n",
    "        return self.price\n",
    "\n",
    "class Audi(Car):\n",
    "    def __init__(self,model):\n",
    "        Car.__init__(self)\n",
    "        self.make='Audi'\n",
    "        self.model=model\n",
    "        self.set_price(50)\n",
    "  \n",
    "    \n",
    "class Toyota(Car):\n",
    "    def __init__(self, model):\n",
    "        Car.__init__(self)\n",
    "        self.make='Tayota'\n",
    "        self.model=model\n",
    "        self.set_price(50)    "
   ]
  },
  {
   "cell_type": "code",
   "execution_count": 108,
   "metadata": {},
   "outputs": [],
   "source": [
    "car1=Audi('A3')\n",
    "car2=Toyota('Fortuner')"
   ]
  },
  {
   "cell_type": "code",
   "execution_count": 109,
   "metadata": {},
   "outputs": [
    {
     "data": {
      "text/plain": [
       "(4, 'Audi', 'A3', 50, None, 40)"
      ]
     },
     "execution_count": 109,
     "metadata": {},
     "output_type": "execute_result"
    }
   ],
   "source": [
    "car1.wheels, car1.make, car1.model, car1.get_price(), car1.set_price(40), car1.get_price()"
   ]
  },
  {
   "cell_type": "code",
   "execution_count": 110,
   "metadata": {},
   "outputs": [
    {
     "data": {
      "text/plain": [
       "(4, 'Tayota', 'Fortuner', 50)"
      ]
     },
     "execution_count": 110,
     "metadata": {},
     "output_type": "execute_result"
    }
   ],
   "source": [
    "car2.wheels, car2.make, car2.model, car2.get_price()"
   ]
  },
  {
   "cell_type": "markdown",
   "metadata": {},
   "source": [
    "### Special methods"
   ]
  },
  {
   "cell_type": "code",
   "execution_count": 111,
   "metadata": {},
   "outputs": [],
   "source": [
    "class Car:\n",
    "    def __init__(self):\n",
    "        self.wheels=4\n",
    "       \n",
    "   \n",
    "class Audi(Car):\n",
    "    def __init__(self, model):\n",
    "        Car.__init__(self)\n",
    "        self.make='Audi'\n",
    "        self.model=model\n",
    "        \n",
    "       \n",
    "    def __str__(self):\n",
    "        return f'This is {self.make} {self.model}.'\n",
    "    \n",
    "    def __len__(self):\n",
    "        return 4\n",
    "    \n",
    "    def __del__(self):\n",
    "        print ('Deleted')\n",
    "        "
   ]
  },
  {
   "cell_type": "code",
   "execution_count": 112,
   "metadata": {},
   "outputs": [],
   "source": [
    "car1=Audi('A3')"
   ]
  },
  {
   "cell_type": "code",
   "execution_count": 113,
   "metadata": {},
   "outputs": [
    {
     "data": {
      "text/plain": [
       "('This is Audi A3.', 4)"
      ]
     },
     "execution_count": 113,
     "metadata": {},
     "output_type": "execute_result"
    }
   ],
   "source": [
    "str(car1), len(car1)"
   ]
  },
  {
   "cell_type": "code",
   "execution_count": 114,
   "metadata": {},
   "outputs": [
    {
     "name": "stdout",
     "output_type": "stream",
     "text": [
      "Deleted\n"
     ]
    }
   ],
   "source": [
    "del car1"
   ]
  },
  {
   "cell_type": "code",
   "execution_count": null,
   "metadata": {},
   "outputs": [],
   "source": []
  }
 ],
 "metadata": {
  "kernelspec": {
   "display_name": "Python 3",
   "language": "python",
   "name": "python3"
  },
  "language_info": {
   "codemirror_mode": {
    "name": "ipython",
    "version": 3
   },
   "file_extension": ".py",
   "mimetype": "text/x-python",
   "name": "python",
   "nbconvert_exporter": "python",
   "pygments_lexer": "ipython3",
   "version": "3.8.3"
  }
 },
 "nbformat": 4,
 "nbformat_minor": 4
}
