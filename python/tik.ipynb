{
 "cells": [
  {
   "cell_type": "code",
   "execution_count": 1,
   "metadata": {},
   "outputs": [],
   "source": [
    "board = list(range(0,9))\n",
    "patterns =[(0,1,2),(3,4,5),(6,7,8),(0,3,6),(1,4,7),(2,5,8),(0,4,8),(2,4,6)]\n",
    "result = \"progress\""
   ]
  },
  {
   "cell_type": "code",
   "execution_count": 2,
   "metadata": {},
   "outputs": [],
   "source": [
    "def display():\n",
    "    display_string=''\n",
    "    for i in range(0,3):\n",
    "        for j in range(0,3):\n",
    "            display_string+='  '\n",
    "            display_string+=str(board[i*3+j])\n",
    "        display_string+='\\n'    \n",
    "    print(display_string) "
   ]
  },
  {
   "cell_type": "code",
   "execution_count": 3,
   "metadata": {},
   "outputs": [],
   "source": [
    "def ask_input():\n",
    "    pos = int(input(\"Enter a position: \"))\n",
    "    if(board[pos]==\"X\" or board[pos]==\"O\"):\n",
    "        ask_input()\n",
    "    else:\n",
    "        board[pos]=\"X\"\n",
    "        display()        "
   ]
  },
  {
   "cell_type": "code",
   "execution_count": 4,
   "metadata": {},
   "outputs": [],
   "source": [
    "def check():\n",
    "    global result\n",
    "    if(board.count('X')+board.count('O')==9):\n",
    "        result='draw'\n",
    "    \n",
    "    for x in patterns:\n",
    "        if(board[x[0]]==board[x[1]]==board[x[2]]):\n",
    "            print(board[x[0]])\n",
    "            if(board[x[0]]=='X'):\n",
    "                result=\"computer wins\"\n",
    "            else:\n",
    "                result=\"palyer wins\"\n",
    "            break  \n",
    "            "
   ]
  },
  {
   "cell_type": "code",
   "execution_count": 5,
   "metadata": {},
   "outputs": [],
   "source": [
    "def play():\n",
    "   display() \n",
    "   while(result==\"progress\"):\n",
    "        ask_input()\n",
    "        check()\n",
    "   print(result)"
   ]
  },
  {
   "cell_type": "code",
   "execution_count": 6,
   "metadata": {},
   "outputs": [
    {
     "name": "stdout",
     "output_type": "stream",
     "text": [
      "  0  1  2\n",
      "  3  4  5\n",
      "  6  7  8\n",
      "\n",
      "Enter a position: 0\n",
      "  X  1  2\n",
      "  3  4  5\n",
      "  6  7  8\n",
      "\n",
      "Enter a position: 5\n",
      "  X  1  2\n",
      "  3  4  X\n",
      "  6  7  8\n",
      "\n",
      "Enter a position: 7\n",
      "  X  1  2\n",
      "  3  4  X\n",
      "  6  X  8\n",
      "\n",
      "Enter a position: 1\n",
      "  X  X  2\n",
      "  3  4  X\n",
      "  6  X  8\n",
      "\n",
      "Enter a position: 6\n",
      "  X  X  2\n",
      "  3  4  X\n",
      "  X  X  8\n",
      "\n",
      "Enter a position: 2\n",
      "  X  X  X\n",
      "  3  4  X\n",
      "  X  X  8\n",
      "\n",
      "X\n",
      "computer wins\n"
     ]
    }
   ],
   "source": [
    "play()"
   ]
  },
  {
   "cell_type": "code",
   "execution_count": null,
   "metadata": {},
   "outputs": [],
   "source": []
  }
 ],
 "metadata": {
  "kernelspec": {
   "display_name": "Python 3",
   "language": "python",
   "name": "python3"
  },
  "language_info": {
   "codemirror_mode": {
    "name": "ipython",
    "version": 3
   },
   "file_extension": ".py",
   "mimetype": "text/x-python",
   "name": "python",
   "nbconvert_exporter": "python",
   "pygments_lexer": "ipython3",
   "version": "3.8.3"
  }
 },
 "nbformat": 4,
 "nbformat_minor": 4
}
