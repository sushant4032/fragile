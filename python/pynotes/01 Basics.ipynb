{
 "cells": [
  {
   "cell_type": "markdown",
   "metadata": {},
   "source": [
    "# Python data types  \n",
    "\n",
    "int,  \n",
    "float  \n",
    "str : sequence of characters  \n",
    "bool  \n",
    "list : sequence of objects  \n",
    "tuple: sequence of unmutable objects  \n",
    "set: collection of unique objects  \n",
    "dictionary: collection of key-value pairs "
   ]
  },
  {
   "cell_type": "code",
   "execution_count": 1,
   "metadata": {},
   "outputs": [
    {
     "data": {
      "text/plain": [
       "1"
      ]
     },
     "execution_count": 1,
     "metadata": {},
     "output_type": "execute_result"
    }
   ],
   "source": [
    "#floor division\n",
    "7//4"
   ]
  },
  {
   "cell_type": "markdown",
   "metadata": {},
   "source": [
    "# Debugger"
   ]
  },
  {
   "cell_type": "code",
   "execution_count": 18,
   "metadata": {},
   "outputs": [
    {
     "data": {
      "text/plain": [
       "5"
      ]
     },
     "execution_count": 18,
     "metadata": {},
     "output_type": "execute_result"
    }
   ],
   "source": [
    "import pdb\n",
    "\n",
    "x=[1,2,3]\n",
    "y=2\n",
    "z=3\n",
    "\n",
    "#pdb.set_trace() # q to quit debugger\n",
    "y+z"
   ]
  },
  {
   "cell_type": "markdown",
   "metadata": {},
   "source": [
    "# File io"
   ]
  },
  {
   "cell_type": "code",
   "execution_count": 19,
   "metadata": {},
   "outputs": [
    {
     "data": {
      "text/plain": [
       "'C:\\\\Users\\\\susha\\\\OneDrive\\\\Documents\\\\fragile'"
      ]
     },
     "execution_count": 19,
     "metadata": {},
     "output_type": "execute_result"
    }
   ],
   "source": [
    "pwd"
   ]
  },
  {
   "cell_type": "code",
   "execution_count": null,
   "metadata": {},
   "outputs": [],
   "source": [
    "import os\n",
    "import shutil\n",
    "import send2trash\n",
    "\n",
    "f=open('file1.txt','w+')\n",
    "f.write('This is a test string')\n",
    "f.close()\n",
    "\n",
    "#print(os.getcwd())\n",
    "#print(os.listdir())\n",
    "\n",
    "path=os.getcwd()+'\\\\bin\\\\'\n",
    "\n",
    "shutil.copy('file1.txt', path)\n",
    "shutil.copy(path+'file1.txt', os.getcwd())\n",
    "send2trash.send2trash('file1.txt')"
   ]
  },
  {
   "cell_type": "code",
   "execution_count": null,
   "metadata": {},
   "outputs": [],
   "source": [
    "for folder, sub_folder, files in os.walk(os.getcwd()):\n",
    "    print(folder)\n",
    "    for s in sub_folder:\n",
    "        print(f\"\\t folder: {s}\")\n",
    "    for f in files:    \n",
    "        print(f\"\\t file: {f}\")"
   ]
  },
  {
   "cell_type": "markdown",
   "metadata": {},
   "source": [
    "### input"
   ]
  },
  {
   "cell_type": "code",
   "execution_count": 20,
   "metadata": {},
   "outputs": [
    {
     "name": "stdout",
     "output_type": "stream",
     "text": [
      "Enter a string:ddf\n",
      "fdd\n"
     ]
    }
   ],
   "source": [
    "x = input('Enter a string:')\n",
    "y=x[::-1]\n",
    "print(y)"
   ]
  },
  {
   "cell_type": "code",
   "execution_count": null,
   "metadata": {},
   "outputs": [],
   "source": []
  }
 ],
 "metadata": {
  "kernelspec": {
   "display_name": "Python 3",
   "language": "python",
   "name": "python3"
  },
  "language_info": {
   "codemirror_mode": {
    "name": "ipython",
    "version": 3
   },
   "file_extension": ".py",
   "mimetype": "text/x-python",
   "name": "python",
   "nbconvert_exporter": "python",
   "pygments_lexer": "ipython3",
   "version": "3.8.3"
  }
 },
 "nbformat": 4,
 "nbformat_minor": 4
}
