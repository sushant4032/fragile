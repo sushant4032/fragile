{
 "cells": [
  {
   "cell_type": "code",
   "execution_count": 2,
   "metadata": {},
   "outputs": [
    {
     "data": {
      "text/plain": [
       "'C:\\\\Users\\\\zuk\\\\OneDrive\\\\Documents\\\\fragile\\\\python\\\\sketch'"
      ]
     },
     "execution_count": 2,
     "metadata": {},
     "output_type": "execute_result"
    }
   ],
   "source": [
    "pwd"
   ]
  },
  {
   "cell_type": "code",
   "execution_count": 3,
   "metadata": {},
   "outputs": [],
   "source": [
    "import os\n",
    "import shutil\n",
    "import send2trash\n",
    "\n",
    "f=open('file1.txt','w+')\n",
    "f.write('This is a test string')\n",
    "f.close()\n",
    "\n",
    "#print(os.getcwd())\n",
    "#print(os.listdir())\n",
    "\n",
    "path=os.getcwd()+'\\\\bin\\\\'\n",
    "\n",
    "shutil.copy('file1.txt', path)\n",
    "shutil.copy(path+'file1.txt', os.getcwd())\n",
    "send2trash.send2trash('file1.txt')"
   ]
  },
  {
   "cell_type": "code",
   "execution_count": 4,
   "metadata": {},
   "outputs": [
    {
     "name": "stdout",
     "output_type": "stream",
     "text": [
      "C:\\Users\\zuk\\OneDrive\\Documents\\fragile\\python\\sketch\n",
      "\t folder: .ipynb_checkpoints\n",
      "\t folder: bin\n",
      "\t file: gist.ipynb\n",
      "C:\\Users\\zuk\\OneDrive\\Documents\\fragile\\python\\sketch\\.ipynb_checkpoints\n",
      "\t file: gist-checkpoint.ipynb\n",
      "C:\\Users\\zuk\\OneDrive\\Documents\\fragile\\python\\sketch\\bin\n",
      "\t folder: innerbin\n",
      "\t file: file1.txt\n",
      "C:\\Users\\zuk\\OneDrive\\Documents\\fragile\\python\\sketch\\bin\\innerbin\n"
     ]
    }
   ],
   "source": [
    "for folder, sub_folder, files in os.walk(os.getcwd()):\n",
    "    print(folder)\n",
    "    for s in sub_folder:\n",
    "        print(f\"\\t folder: {s}\")\n",
    "    for f in files:    \n",
    "        print(f\"\\t file: {f}\")"
   ]
  }
 ],
 "metadata": {
  "kernelspec": {
   "display_name": "Python 3",
   "language": "python",
   "name": "python3"
  },
  "language_info": {
   "codemirror_mode": {
    "name": "ipython",
    "version": 3
   },
   "file_extension": ".py",
   "mimetype": "text/x-python",
   "name": "python",
   "nbconvert_exporter": "python",
   "pygments_lexer": "ipython3",
   "version": "3.8.3"
  }
 },
 "nbformat": 4,
 "nbformat_minor": 4
}
