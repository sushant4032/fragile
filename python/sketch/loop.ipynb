{
 "cells": [
  {
   "cell_type": "code",
   "execution_count": 7,
   "metadata": {},
   "outputs": [
    {
     "name": "stdout",
     "output_type": "stream",
     "text": [
      "[1, 2, 3, 4, 5, 6, 7, 8, 9, 10]\n",
      "0.1\n",
      "0.30000000000000004\n",
      "0.6000000000000001\n",
      "1.0\n",
      "1.5\n",
      "2.1\n",
      "2.8\n",
      "3.5999999999999996\n",
      "4.5\n",
      "5.5\n"
     ]
    }
   ],
   "source": [
    "items=list(range(1,11))\n",
    "print(items)\n",
    "sum=0\n",
    "avg=0\n",
    "for item in items:\n",
    "    avg+=item/10\n",
    "    print(avg)    "
   ]
  },
  {
   "cell_type": "code",
   "execution_count": null,
   "metadata": {},
   "outputs": [],
   "source": []
  }
 ],
 "metadata": {
  "kernelspec": {
   "display_name": "Python 3",
   "language": "python",
   "name": "python3"
  },
  "language_info": {
   "codemirror_mode": {
    "name": "ipython",
    "version": 3
   },
   "file_extension": ".py",
   "mimetype": "text/x-python",
   "name": "python",
   "nbconvert_exporter": "python",
   "pygments_lexer": "ipython3",
   "version": "3.8.3"
  }
 },
 "nbformat": 4,
 "nbformat_minor": 4
}
