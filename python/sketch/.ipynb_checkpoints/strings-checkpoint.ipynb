{
 "cells": [
  {
   "cell_type": "markdown",
   "metadata": {},
   "source": [
    "# Python Strings\n",
    "Python strings are immutable.\n",
    "once assigned cannot be changed.\n"
   ]
  },
  {
   "cell_type": "code",
   "execution_count": 62,
   "metadata": {},
   "outputs": [
    {
     "data": {
      "text/plain": [
       "11"
      ]
     },
     "execution_count": 62,
     "metadata": {},
     "output_type": "execute_result"
    }
   ],
   "source": [
    "mystr=\"0123456789a\"\n",
    "#length of string\n",
    "len(mystr)"
   ]
  },
  {
   "cell_type": "code",
   "execution_count": 63,
   "metadata": {},
   "outputs": [
    {
     "data": {
      "text/plain": [
       "('0', '1', '5', 'a', 'a')"
      ]
     },
     "execution_count": 63,
     "metadata": {},
     "output_type": "execute_result"
    }
   ],
   "source": [
    "#String indexing - list like indexing\n",
    "#Reverse indexing starts at -1\n",
    "mystr[0], mystr[1], mystr[5],mystr[10], mystr[-1]"
   ]
  },
  {
   "cell_type": "code",
   "execution_count": 57,
   "metadata": {},
   "outputs": [
    {
     "data": {
      "text/plain": [
       "'02468'"
      ]
     },
     "execution_count": 57,
     "metadata": {},
     "output_type": "execute_result"
    }
   ],
   "source": [
    "#String slicing\n",
    "#[start : stop : step]\n",
    "#stop index is not included.\n",
    "\n",
    "mystr[0:-1:2]\n",
    "\n",
    "#last character is missing"
   ]
  },
  {
   "cell_type": "code",
   "execution_count": 58,
   "metadata": {},
   "outputs": [
    {
     "data": {
      "text/plain": [
       "'02468a'"
      ]
     },
     "execution_count": 58,
     "metadata": {},
     "output_type": "execute_result"
    }
   ],
   "source": [
    "#This method can include last character\n",
    "mystr[::2]"
   ]
  },
  {
   "cell_type": "code",
   "execution_count": 59,
   "metadata": {},
   "outputs": [
    {
     "name": "stdout",
     "output_type": "stream",
     "text": [
      "123456789a\n",
      "0123\n",
      "0123456789a\n",
      "0123456789\n",
      "02468a\n"
     ]
    }
   ],
   "source": [
    "#all form 2nd\n",
    "print(mystr[1:])\n",
    "\n",
    "#all upto 4th\n",
    "print(mystr[:4])\n",
    "\n",
    "#everything\n",
    "print(mystr[:])\n",
    "\n",
    "#all but last\n",
    "print(mystr[:-1])\n",
    "\n",
    "#Evrything with 2 step\n",
    "print(mystr[::2])\n",
    "\n"
   ]
  },
  {
   "cell_type": "code",
   "execution_count": 60,
   "metadata": {},
   "outputs": [
    {
     "name": "stdout",
     "output_type": "stream",
     "text": [
      "a9876543210\n",
      "a987654321\n"
     ]
    }
   ],
   "source": [
    "#Reverse a string\n",
    "print(mystr[::-1])\n",
    "\n",
    "#Reversing a slice\n",
    "print(mystr[10:0:-1])"
   ]
  },
  {
   "cell_type": "code",
   "execution_count": 68,
   "metadata": {},
   "outputs": [
    {
     "name": "stdout",
     "output_type": "stream",
     "text": [
      "startend\n"
     ]
    },
    {
     "data": {
      "text/plain": [
       "'startend startend startend '"
      ]
     },
     "execution_count": 68,
     "metadata": {},
     "output_type": "execute_result"
    }
   ],
   "source": [
    "# String concatanation (with plus operator)\n",
    "start=\"start\"\n",
    "end=\"end\"\n",
    "final=start+end\n",
    "print(final)\n",
    "(final+\" \")*3\n"
   ]
  },
  {
   "cell_type": "markdown",
   "metadata": {},
   "source": [
    "# String methods\n"
   ]
  },
  {
   "cell_type": "code",
   "execution_count": 79,
   "metadata": {},
   "outputs": [
    {
     "name": "stdout",
     "output_type": "stream",
     "text": [
      "HELLO HOW ARE YOU?\n",
      "Hello how are you?\n",
      "hello how are you?\n"
     ]
    }
   ],
   "source": [
    "s=\"Hello how are you?\"\n",
    "print(s.upper())\n",
    "print(s)\n",
    "print(s.lower())"
   ]
  },
  {
   "cell_type": "code",
   "execution_count": 87,
   "metadata": {},
   "outputs": [
    {
     "name": "stdout",
     "output_type": "stream",
     "text": [
      "['Hello', 'how', 'are', 'you?']\n",
      "['Hello how ', 're you?']\n"
     ]
    }
   ],
   "source": [
    "print(s.split())\n",
    "print(s.split('a'))\n"
   ]
  },
  {
   "cell_type": "markdown",
   "metadata": {},
   "source": [
    "# String formating"
   ]
  },
  {
   "cell_type": "code",
   "execution_count": 89,
   "metadata": {},
   "outputs": [
    {
     "data": {
      "text/plain": [
       "'one two three'"
      ]
     },
     "execution_count": 89,
     "metadata": {},
     "output_type": "execute_result"
    }
   ],
   "source": [
    "\"one {} three\".format('two')"
   ]
  },
  {
   "cell_type": "code",
   "execution_count": 90,
   "metadata": {},
   "outputs": [
    {
     "data": {
      "text/plain": [
       "'one two three'"
      ]
     },
     "execution_count": 90,
     "metadata": {},
     "output_type": "execute_result"
    }
   ],
   "source": [
    "two=\"two\"\n",
    "f\"one {two} three\"\n"
   ]
  },
  {
   "cell_type": "code",
   "execution_count": null,
   "metadata": {},
   "outputs": [],
   "source": []
  }
 ],
 "metadata": {
  "kernelspec": {
   "display_name": "Python 3",
   "language": "python",
   "name": "python3"
  },
  "language_info": {
   "codemirror_mode": {
    "name": "ipython",
    "version": 3
   },
   "file_extension": ".py",
   "mimetype": "text/x-python",
   "name": "python",
   "nbconvert_exporter": "python",
   "pygments_lexer": "ipython3",
   "version": "3.8.3"
  }
 },
 "nbformat": 4,
 "nbformat_minor": 4
}
