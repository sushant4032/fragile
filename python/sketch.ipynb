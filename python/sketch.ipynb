{
 "cells": [
  {
   "cell_type": "code",
   "execution_count": 1,
   "metadata": {},
   "outputs": [
    {
     "data": {
      "text/plain": [
       "274877906944"
      ]
     },
     "execution_count": 1,
     "metadata": {},
     "output_type": "execute_result"
    }
   ],
   "source": [
    "2**38"
   ]
  },
  {
   "cell_type": "code",
   "execution_count": 2,
   "metadata": {},
   "outputs": [
    {
     "data": {
      "text/plain": [
       "(203, 28)"
      ]
     },
     "execution_count": 2,
     "metadata": {},
     "output_type": "execute_result"
    }
   ],
   "source": [
    "input=\"\"\"g fmnc wms bgblr rpylqjyrc gr zw fylb.rfyrq ufyr amknsrcpq ypc dmp. \n",
    "bmgle gr gl zw fylb gq glcddgagclr ylb rfyr'q ufw rfgq rcvr gq qm \n",
    "jmle. sqgle qrpgle.kyicrpylq()gq pcamkkclbcb. lmu ynnjw ml rfc spj.\"\"\"\n",
    "\n",
    "sample=\"abcdefghijklmnopqrstuvwxyzab\"\n",
    "\n",
    "len(input), len(sample)"
   ]
  },
  {
   "cell_type": "code",
   "execution_count": 3,
   "metadata": {},
   "outputs": [
    {
     "name": "stdout",
     "output_type": "stream",
     "text": [
      "i hope you didnt translate it by hand.thats what computers are for. \n",
      "doing it in by hand is inefficient and that's why this text is so \n",
      "long. using string.maketrans()is recommended. now apply on the url.\n"
     ]
    }
   ],
   "source": [
    "text=\"\"\n",
    "for x in input:\n",
    "    if x in sample:\n",
    "        x=sample[sample.index(x)+2]      \n",
    "    text+=x\n",
    "print(text)"
   ]
  },
  {
   "cell_type": "code",
   "execution_count": 4,
   "metadata": {},
   "outputs": [
    {
     "data": {
      "text/plain": [
       "'i\"hope\"you\"didnt\"tr{nsl{te\"it\"|y\"h{nd0th{ts\"wh{t\"computers\"{re\"for0\"\\x0cdoing\"it\"in\"|y\"h{nd\"is\"inefficient\"{nd\"th{t)s\"why\"this\"text\"is\"so\"\\x0clong0\"using\"string0m{ketr{ns*+is\"recommended0\"now\"{pply\"on\"the\"url0'"
      ]
     },
     "execution_count": 4,
     "metadata": {},
     "output_type": "execute_result"
    }
   ],
   "source": [
    "\"\".join(map(lambda x:chr(ord(x)+2),input))"
   ]
  },
  {
   "cell_type": "code",
   "execution_count": 5,
   "metadata": {},
   "outputs": [
    {
     "name": "stdout",
     "output_type": "stream",
     "text": [
      "i hope you didnt translate it by hand.thats what computers are for. \n",
      "doing it in by hand is inefficient and that's why this text is so \n",
      "long. using string.maketrans()is recommended. now apply on the url.\n"
     ]
    }
   ],
   "source": [
    "import string\n",
    "table = \"\".maketrans(sample[:-2],sample[2:])\n",
    "text=input.translate(table)\n",
    "print(text)"
   ]
  },
  {
   "cell_type": "code",
   "execution_count": null,
   "metadata": {},
   "outputs": [],
   "source": []
  },
  {
   "cell_type": "code",
   "execution_count": null,
   "metadata": {},
   "outputs": [],
   "source": []
  },
  {
   "cell_type": "code",
   "execution_count": null,
   "metadata": {},
   "outputs": [],
   "source": []
  },
  {
   "cell_type": "code",
   "execution_count": null,
   "metadata": {},
   "outputs": [],
   "source": []
  },
  {
   "cell_type": "code",
   "execution_count": 6,
   "metadata": {},
   "outputs": [],
   "source": [
    "file=open('pyc_gibs/gib2.txt','r+')\n",
    "inp=file.read()"
   ]
  },
  {
   "cell_type": "code",
   "execution_count": 7,
   "metadata": {},
   "outputs": [
    {
     "name": "stdout",
     "output_type": "stream",
     "text": [
      "equality\n"
     ]
    }
   ],
   "source": [
    "text=\"\"\n",
    "for x in inp:\n",
    "    if x in \"abcdefghijklmnopqrstuvwxyz\":\n",
    "        text+=x\n",
    "print(text)    "
   ]
  },
  {
   "cell_type": "code",
   "execution_count": 8,
   "metadata": {},
   "outputs": [
    {
     "name": "stdout",
     "output_type": "stream",
     "text": [
      "equality\n"
     ]
    }
   ],
   "source": [
    "import string\n",
    "text=\"\"\n",
    "for x in inp:\n",
    "    if x in string.ascii_letters:\n",
    "        text+=x   \n",
    "print(text)"
   ]
  },
  {
   "cell_type": "code",
   "execution_count": 9,
   "metadata": {},
   "outputs": [
    {
     "data": {
      "text/plain": [
       "{'%': 6104,\n",
       " '$': 6046,\n",
       " '@': 6157,\n",
       " '_': 6112,\n",
       " '^': 6030,\n",
       " '#': 6115,\n",
       " ')': 6186,\n",
       " '&': 6043,\n",
       " '!': 6079,\n",
       " '+': 6066,\n",
       " ']': 6152,\n",
       " '*': 6034,\n",
       " '}': 6105,\n",
       " '[': 6108,\n",
       " '(': 6154,\n",
       " '{': 6046,\n",
       " '\\n': 1219,\n",
       " 'e': 1,\n",
       " 'q': 1,\n",
       " 'u': 1,\n",
       " 'a': 1,\n",
       " 'l': 1,\n",
       " 'i': 1,\n",
       " 't': 1,\n",
       " 'y': 1}"
      ]
     },
     "execution_count": 9,
     "metadata": {},
     "output_type": "execute_result"
    }
   ],
   "source": [
    "counts={}\n",
    "for x in inp:\n",
    "    counts[x]=counts.get(x,0)+1  \n",
    "counts"
   ]
  },
  {
   "cell_type": "code",
   "execution_count": 10,
   "metadata": {},
   "outputs": [
    {
     "name": "stdout",
     "output_type": "stream",
     "text": [
      "{'&', '@', '+', 'q', '{', '*', 'e', '$', '_', ']', 'a', '#', '%', 'l', '!', 'y', '^', '[', '}', ')', 'u', '(', '\\n', 't', 'i'}\n"
     ]
    }
   ],
   "source": [
    "s=set(inp)\n",
    "print(s)"
   ]
  },
  {
   "cell_type": "code",
   "execution_count": 11,
   "metadata": {},
   "outputs": [
    {
     "data": {
      "text/plain": [
       "['e', 'q', 'u', 'a', 'l', 'i', 't', 'y']"
      ]
     },
     "execution_count": 11,
     "metadata": {},
     "output_type": "execute_result"
    }
   ],
   "source": [
    "[ x for x in inp if x.isalpha()]"
   ]
  },
  {
   "cell_type": "code",
   "execution_count": 12,
   "metadata": {},
   "outputs": [
    {
     "data": {
      "text/plain": [
       "'equality'"
      ]
     },
     "execution_count": 12,
     "metadata": {},
     "output_type": "execute_result"
    }
   ],
   "source": [
    "\"\".join([ x for x in inp if x.isalpha()])"
   ]
  },
  {
   "cell_type": "code",
   "execution_count": 13,
   "metadata": {},
   "outputs": [
    {
     "data": {
      "text/plain": [
       "'equality'"
      ]
     },
     "execution_count": 13,
     "metadata": {},
     "output_type": "execute_result"
    }
   ],
   "source": [
    "\"\".join(filter(lambda x:x.isalpha(), inp))"
   ]
  },
  {
   "cell_type": "code",
   "execution_count": 14,
   "metadata": {},
   "outputs": [],
   "source": [
    "# this is extremely slow\n",
    "# filter(lambda x:inp.count(x)<5,inp)"
   ]
  },
  {
   "cell_type": "code",
   "execution_count": 15,
   "metadata": {},
   "outputs": [],
   "source": [
    "# This too is extremely slow\n",
    "# [x for x in inp if inp.count(x)<5]"
   ]
  },
  {
   "cell_type": "code",
   "execution_count": null,
   "metadata": {},
   "outputs": [],
   "source": []
  },
  {
   "cell_type": "code",
   "execution_count": null,
   "metadata": {},
   "outputs": [],
   "source": []
  },
  {
   "cell_type": "code",
   "execution_count": null,
   "metadata": {},
   "outputs": [],
   "source": []
  },
  {
   "cell_type": "code",
   "execution_count": 16,
   "metadata": {},
   "outputs": [],
   "source": [
    "# This challange as I understand is to find a small letters surrounded by three caps from either side."
   ]
  },
  {
   "cell_type": "code",
   "execution_count": 51,
   "metadata": {},
   "outputs": [
    {
     "data": {
      "text/plain": [
       "'kAewtloYgcFQaJNhHVGxXDiQmzjfcpYbzxlWrVcqsmUbCunkfxZWDZjUZMiGqhRRiUvGmYmvnJIHEmbT'"
      ]
     },
     "execution_count": 51,
     "metadata": {},
     "output_type": "execute_result"
    }
   ],
   "source": [
    "inp = open('pyc_gibs/gib3.txt','r').read()\n",
    "cont=\"\".join(filter(lambda x:x!='\\n',tmp))\n",
    "lines = inp.split('\\n')\n",
    "lines[0]"
   ]
  },
  {
   "cell_type": "code",
   "execution_count": 53,
   "metadata": {
    "scrolled": true
   },
   "outputs": [],
   "source": [
    "# looks like considering two sides are not enough all four has to be considered"
   ]
  },
  {
   "cell_type": "code",
   "execution_count": 81,
   "metadata": {},
   "outputs": [
    {
     "name": "stdout",
     "output_type": "stream",
     "text": [
      "DBWgVAN\n",
      "RSMaQTH\n",
      "ZRXwABR\n",
      "TYFpCSC\n",
      "NPPxDCD\n",
      "CJAsACF\n",
      "gawpxs\n"
     ]
    }
   ],
   "source": [
    "lines = tmp.split('\\n')\n",
    "txt=\"\"\n",
    "for i in range(3,len(lines)-3):\n",
    "    line=lines[i]\n",
    "    for j in range(3,len(line)-3):\n",
    "        if line[j].islower():\n",
    "            h_str=\"\"+line[j-3:j]+line[j+1:j+4]\n",
    "            if h_str.isupper():\n",
    "                v_str=\"\"+lines[i-3][j]+lines[i-2][j]+lines[i-1][j]+lines[i+1][j]+lines[i+2][j]+lines[i+3][j]\n",
    "                if v_str.isupper():\n",
    "                    txt+=line[j]\n",
    "                    print(\"\"+line[j-3:j+4])\n",
    "print(txt)    "
   ]
  },
  {
   "cell_type": "code",
   "execution_count": 55,
   "metadata": {},
   "outputs": [],
   "source": [
    "# all above results do not meet the exact three criteria.\n",
    "# lets try two sides idea with exact 3 capitals on both sides of a small"
   ]
  },
  {
   "cell_type": "code",
   "execution_count": 84,
   "metadata": {},
   "outputs": [
    {
     "name": "stdout",
     "output_type": "stream",
     "text": [
      "IQNlQSL\n",
      "OEKiVEY\n",
      "ZADnMCZ\n",
      "ZUTkLYN\n",
      "CNDeHSB\n",
      "OIXdKBF\n",
      "XJVlGZV\n",
      "ZAGiLQZ\n",
      "CJAsACF\n",
      "KWGtIDC\n",
      "linkedlist\n"
     ]
    }
   ],
   "source": [
    "txt=\"\"\n",
    "for line in lines:\n",
    "    for i in range(len(line)-6):\n",
    "        # first condition\n",
    "        if line[i:i+3].isupper() and line[i+3].islower() and line[i+4:i+7].isupper():\n",
    "            # now exactness\n",
    "            if line[i-1].islower() and line[i+7].islower():\n",
    "                print(line[i:i+3]+line[i+3]+line[i+4:i+7])\n",
    "                txt+=line[i+3]\n",
    "print(txt)\n",
    "# exactness checking may produce range error is substring is at start or end of the line .\n"
   ]
  },
  {
   "cell_type": "code",
   "execution_count": 84,
   "metadata": {},
   "outputs": [
    {
     "name": "stdout",
     "output_type": "stream",
     "text": [
      "IQNlQSL\n",
      "OEKiVEY\n",
      "ZADnMCZ\n",
      "ZUTkLYN\n",
      "CNDeHSB\n",
      "OIXdKBF\n",
      "XJVlGZV\n",
      "ZAGiLQZ\n",
      "CJAsACF\n",
      "KWGtIDC\n",
      "linkedlist\n"
     ]
    }
   ],
   "source": [
    "txt=\"\"\n",
    "for line in lines:\n",
    "    for i in range(len(line)-6):\n",
    "        if line[i:i+3].isupper() and line[i+3].islower() and line[i+4:i+7].isupper():\n",
    "            # now exactness\n",
    "            if line[i-1].islower() and line[i+7].islower():\n",
    "                print(line[i:i+3]+line[i+3]+line[i+4:i+7])\n",
    "                txt+=line[i+3]\n",
    "print(txt)\n",
    "# exactness checking may produce range error."
   ]
  },
  {
   "cell_type": "code",
   "execution_count": null,
   "metadata": {},
   "outputs": [],
   "source": []
  }
 ],
 "metadata": {
  "kernelspec": {
   "display_name": "Python 3",
   "language": "python",
   "name": "python3"
  },
  "language_info": {
   "codemirror_mode": {
    "name": "ipython",
    "version": 3
   },
   "file_extension": ".py",
   "mimetype": "text/x-python",
   "name": "python",
   "nbconvert_exporter": "python",
   "pygments_lexer": "ipython3",
   "version": "3.8.3"
  }
 },
 "nbformat": 4,
 "nbformat_minor": 4
}
