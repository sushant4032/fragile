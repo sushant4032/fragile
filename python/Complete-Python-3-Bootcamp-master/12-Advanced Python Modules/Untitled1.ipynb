{
 "cells": [
  {
   "cell_type": "code",
   "execution_count": 39,
   "metadata": {},
   "outputs": [],
   "source": [
    "f=open('file1.txt','w+')\n",
    "f.write('This is a test string')\n",
    "f.write('This is line 2')\n",
    "f.close()\n",
    "import os\n",
    "import shutil\n",
    "#print(os.getcwd())\n",
    "#print(os.listdir())\n",
    "shutil.copy('file1.txt','D:\\\\')\n",
    "shutil.copy('D:\\\\file1.txt', os.getcwd())\n",
    "import send2trash\n",
    "send2trash.send2trash('file1.txt')\n"
   ]
  },
  {
   "cell_type": "code",
   "execution_count": null,
   "metadata": {},
   "outputs": [],
   "source": []
  }
 ],
 "metadata": {
  "kernelspec": {
   "display_name": "Python 3",
   "language": "python",
   "name": "python3"
  },
  "language_info": {
   "codemirror_mode": {
    "name": "ipython",
    "version": 3
   },
   "file_extension": ".py",
   "mimetype": "text/x-python",
   "name": "python",
   "nbconvert_exporter": "python",
   "pygments_lexer": "ipython3",
   "version": "3.8.3"
  }
 },
 "nbformat": 4,
 "nbformat_minor": 4
}
