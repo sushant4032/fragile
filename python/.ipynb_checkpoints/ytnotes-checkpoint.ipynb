{
 "cells": [
  {
   "cell_type": "code",
   "execution_count": 1,
   "metadata": {},
   "outputs": [],
   "source": [
    "# Lists : ordered, mutable, allows duplicate items"
   ]
  },
  {
   "cell_type": "code",
   "execution_count": 2,
   "metadata": {},
   "outputs": [],
   "source": [
    "# creating a list\n",
    "mylist=[2,3,0,4]"
   ]
  },
  {
   "cell_type": "code",
   "execution_count": 3,
   "metadata": {},
   "outputs": [
    {
     "data": {
      "text/plain": [
       "(2, 4)"
      ]
     },
     "execution_count": 3,
     "metadata": {},
     "output_type": "execute_result"
    }
   ],
   "source": [
    "# indexing a list\n",
    "mylist[0], mylist[-1]"
   ]
  },
  {
   "cell_type": "code",
   "execution_count": 4,
   "metadata": {},
   "outputs": [
    {
     "data": {
      "text/plain": [
       "(2, 3)"
      ]
     },
     "execution_count": 4,
     "metadata": {},
     "output_type": "execute_result"
    }
   ],
   "source": [
    "# reverse indexing a list\n",
    "mylist.index(0), mylist.index(4)"
   ]
  },
  {
   "cell_type": "code",
   "execution_count": 5,
   "metadata": {},
   "outputs": [
    {
     "name": "stdout",
     "output_type": "stream",
     "text": [
      "2\n",
      "3\n",
      "0\n",
      "4\n"
     ]
    }
   ],
   "source": [
    "# for loop can iterate over a tuple\n",
    "for x in mylist:\n",
    "    print(x)"
   ]
  },
  {
   "cell_type": "code",
   "execution_count": 6,
   "metadata": {},
   "outputs": [
    {
     "data": {
      "text/plain": [
       "True"
      ]
     },
     "execution_count": 6,
     "metadata": {},
     "output_type": "execute_result"
    }
   ],
   "source": [
    "# checking if an element exists\n",
    "3 in mylist"
   ]
  },
  {
   "cell_type": "code",
   "execution_count": 7,
   "metadata": {},
   "outputs": [
    {
     "name": "stdout",
     "output_type": "stream",
     "text": [
      "present\n"
     ]
    }
   ],
   "source": [
    "if 3 in mylist:\n",
    "    print('present')\n",
    " "
   ]
  },
  {
   "cell_type": "code",
   "execution_count": 8,
   "metadata": {},
   "outputs": [
    {
     "data": {
      "text/plain": [
       "4"
      ]
     },
     "execution_count": 8,
     "metadata": {},
     "output_type": "execute_result"
    }
   ],
   "source": [
    "len(mylist)"
   ]
  },
  {
   "cell_type": "code",
   "execution_count": 9,
   "metadata": {},
   "outputs": [
    {
     "data": {
      "text/plain": [
       "[2, 3, 0, 4, 'lemon']"
      ]
     },
     "execution_count": 9,
     "metadata": {},
     "output_type": "execute_result"
    }
   ],
   "source": [
    "mylist.append('lemon')\n",
    "mylist"
   ]
  },
  {
   "cell_type": "code",
   "execution_count": 10,
   "metadata": {},
   "outputs": [
    {
     "data": {
      "text/plain": [
       "[2, 'item', 3, 0, 4, 'lemon']"
      ]
     },
     "execution_count": 10,
     "metadata": {},
     "output_type": "execute_result"
    }
   ],
   "source": [
    "#insert(index, item)\n",
    "mylist.insert(1,'item')\n",
    "mylist"
   ]
  },
  {
   "cell_type": "code",
   "execution_count": 11,
   "metadata": {},
   "outputs": [
    {
     "data": {
      "text/plain": [
       "'lemon'"
      ]
     },
     "execution_count": 11,
     "metadata": {},
     "output_type": "execute_result"
    }
   ],
   "source": [
    "#pop() removes last element and returns it\n",
    "mylist.pop()"
   ]
  },
  {
   "cell_type": "code",
   "execution_count": 12,
   "metadata": {},
   "outputs": [
    {
     "data": {
      "text/plain": [
       "2"
      ]
     },
     "execution_count": 12,
     "metadata": {},
     "output_type": "execute_result"
    }
   ],
   "source": [
    "#pop(index) removes item form given index\n",
    "mylist.pop(0)"
   ]
  },
  {
   "cell_type": "code",
   "execution_count": 13,
   "metadata": {},
   "outputs": [
    {
     "data": {
      "text/plain": [
       "[]"
      ]
     },
     "execution_count": 13,
     "metadata": {},
     "output_type": "execute_result"
    }
   ],
   "source": [
    "#clear() : clears the list\n",
    "mylist.clear()\n",
    "mylist"
   ]
  },
  {
   "cell_type": "code",
   "execution_count": 14,
   "metadata": {},
   "outputs": [
    {
     "data": {
      "text/plain": [
       "[4, 0, 3, 2]"
      ]
     },
     "execution_count": 14,
     "metadata": {},
     "output_type": "execute_result"
    }
   ],
   "source": [
    "#reverse() : reverses a list\n",
    "mylist=[2,3,0,4]\n",
    "mylist.reverse()\n",
    "mylist\n"
   ]
  },
  {
   "cell_type": "code",
   "execution_count": 15,
   "metadata": {},
   "outputs": [
    {
     "data": {
      "text/plain": [
       "[0, 2, 3, 4]"
      ]
     },
     "execution_count": 15,
     "metadata": {},
     "output_type": "execute_result"
    }
   ],
   "source": [
    "#sort() : sorts a list\n",
    "mylist.sort()\n",
    "mylist"
   ]
  },
  {
   "cell_type": "code",
   "execution_count": 16,
   "metadata": {},
   "outputs": [
    {
     "data": {
      "text/plain": [
       "([2, 3, 0, 4], [0, 2, 3, 4])"
      ]
     },
     "execution_count": 16,
     "metadata": {},
     "output_type": "execute_result"
    }
   ],
   "source": [
    "# avove methods changes the original list, in order to sort a list without changing it, use sorted()\n",
    "mylist=[2,3,0,4]\n",
    "newlist=sorted(mylist)\n",
    "mylist,newlist"
   ]
  },
  {
   "cell_type": "code",
   "execution_count": 17,
   "metadata": {},
   "outputs": [
    {
     "data": {
      "text/plain": [
       "[0, 0, 0, 0, 0]"
      ]
     },
     "execution_count": 17,
     "metadata": {},
     "output_type": "execute_result"
    }
   ],
   "source": [
    "# list multiplication\n",
    "mylist=[0]*5\n",
    "mylist"
   ]
  },
  {
   "cell_type": "code",
   "execution_count": 18,
   "metadata": {},
   "outputs": [
    {
     "data": {
      "text/plain": [
       "[2, 3, 0, 4, 5]"
      ]
     },
     "execution_count": 18,
     "metadata": {},
     "output_type": "execute_result"
    }
   ],
   "source": [
    "# list concatanation\n",
    "mylist=[2,3,0,4]\n",
    "mylist+[5]\n"
   ]
  },
  {
   "cell_type": "code",
   "execution_count": 19,
   "metadata": {},
   "outputs": [
    {
     "data": {
      "text/plain": [
       "[0, 4, 8]"
      ]
     },
     "execution_count": 19,
     "metadata": {},
     "output_type": "execute_result"
    }
   ],
   "source": [
    "# List slicing : list[start:stop:step]\n",
    "mylist = list(range(10))\n",
    "mylist[::4]\n"
   ]
  },
  {
   "cell_type": "code",
   "execution_count": 20,
   "metadata": {},
   "outputs": [
    {
     "data": {
      "text/plain": [
       "[9, 8, 7, 6, 5, 4, 3, 2, 1, 0]"
      ]
     },
     "execution_count": 20,
     "metadata": {},
     "output_type": "execute_result"
    }
   ],
   "source": [
    "# reversing a list\n",
    "mylist[::-1]"
   ]
  },
  {
   "cell_type": "code",
   "execution_count": 21,
   "metadata": {},
   "outputs": [
    {
     "data": {
      "text/plain": [
       "[100, 3, 0, 4]"
      ]
     },
     "execution_count": 21,
     "metadata": {},
     "output_type": "execute_result"
    }
   ],
   "source": [
    "# Assigning lists does not create a new copy\n",
    "mylist=[2,3,0,4]\n",
    "newlist=mylist\n",
    "newlist[0]=100\n",
    "mylist"
   ]
  },
  {
   "cell_type": "code",
   "execution_count": 22,
   "metadata": {},
   "outputs": [
    {
     "name": "stdout",
     "output_type": "stream",
     "text": [
      "[2, 3, 0, 4, 'lemon']\n",
      "[2, 3, 0, 4]\n"
     ]
    }
   ],
   "source": [
    "# However, slicing makes a new copy\n",
    "\n",
    "mylist=[2,3,0,4]\n",
    "newlist=mylist[:]\n",
    "newlist.append('lemon')\n",
    "print(newlist)\n",
    "print(mylist)"
   ]
  },
  {
   "cell_type": "code",
   "execution_count": 23,
   "metadata": {},
   "outputs": [],
   "source": [
    "# two more methods to copy\n",
    "newlist=mylist.copy()\n",
    "newlist=list(mylist)"
   ]
  },
  {
   "cell_type": "code",
   "execution_count": 24,
   "metadata": {},
   "outputs": [
    {
     "data": {
      "text/plain": [
       "[2, 3, 0, 4]"
      ]
     },
     "execution_count": 24,
     "metadata": {},
     "output_type": "execute_result"
    }
   ],
   "source": [
    "# list comprehension can also be used to copy\n",
    "newlist = [x for x in mylist]\n",
    "newlist"
   ]
  },
  {
   "cell_type": "code",
   "execution_count": null,
   "metadata": {},
   "outputs": [],
   "source": []
  },
  {
   "cell_type": "code",
   "execution_count": null,
   "metadata": {},
   "outputs": [],
   "source": []
  },
  {
   "cell_type": "code",
   "execution_count": null,
   "metadata": {},
   "outputs": [],
   "source": []
  },
  {
   "cell_type": "code",
   "execution_count": null,
   "metadata": {},
   "outputs": [],
   "source": []
  },
  {
   "cell_type": "code",
   "execution_count": 25,
   "metadata": {},
   "outputs": [],
   "source": [
    "# Tuples : ordered, immutable, allows duplicate items"
   ]
  },
  {
   "cell_type": "code",
   "execution_count": 26,
   "metadata": {},
   "outputs": [
    {
     "data": {
      "text/plain": [
       "(2, 3, 0, 4)"
      ]
     },
     "execution_count": 26,
     "metadata": {},
     "output_type": "execute_result"
    }
   ],
   "source": [
    "# creating a tuple\n",
    "mytup=(2,3,0,4)\n",
    "\n",
    "# or without paranthesis\n",
    "mytup=2,3,0,4\n",
    "\n",
    "mytup"
   ]
  },
  {
   "cell_type": "code",
   "execution_count": 27,
   "metadata": {},
   "outputs": [
    {
     "data": {
      "text/plain": [
       "(2, 4, 3)"
      ]
     },
     "execution_count": 27,
     "metadata": {},
     "output_type": "execute_result"
    }
   ],
   "source": [
    "# indexing, reverse indexing and slicing works like lists\n",
    "mytup[0], mytup[-1], mytup.index(4)"
   ]
  },
  {
   "cell_type": "code",
   "execution_count": 28,
   "metadata": {},
   "outputs": [
    {
     "name": "stdout",
     "output_type": "stream",
     "text": [
      "2\n",
      "3\n",
      "0\n",
      "4\n"
     ]
    }
   ],
   "source": [
    "# for loop can iterate over tuple\n",
    "for x in mytup:\n",
    "    print(x)"
   ]
  },
  {
   "cell_type": "code",
   "execution_count": 29,
   "metadata": {},
   "outputs": [
    {
     "data": {
      "text/plain": [
       "True"
      ]
     },
     "execution_count": 29,
     "metadata": {},
     "output_type": "execute_result"
    }
   ],
   "source": [
    "# if an element is present\n",
    "2 in mytup"
   ]
  },
  {
   "cell_type": "code",
   "execution_count": 30,
   "metadata": {},
   "outputs": [
    {
     "data": {
      "text/plain": [
       "4"
      ]
     },
     "execution_count": 30,
     "metadata": {},
     "output_type": "execute_result"
    }
   ],
   "source": [
    "len(mytup)"
   ]
  },
  {
   "cell_type": "code",
   "execution_count": 31,
   "metadata": {},
   "outputs": [
    {
     "data": {
      "text/plain": [
       "1"
      ]
     },
     "execution_count": 31,
     "metadata": {},
     "output_type": "execute_result"
    }
   ],
   "source": [
    "# counting \n",
    "mytup.count(2)"
   ]
  },
  {
   "cell_type": "code",
   "execution_count": 32,
   "metadata": {},
   "outputs": [
    {
     "data": {
      "text/plain": [
       "(2, 3, 0, 4)"
      ]
     },
     "execution_count": 32,
     "metadata": {},
     "output_type": "execute_result"
    }
   ],
   "source": [
    "# slicing works for tuples\n",
    "mytup[:]"
   ]
  },
  {
   "cell_type": "code",
   "execution_count": 33,
   "metadata": {},
   "outputs": [
    {
     "data": {
      "text/plain": [
       "(2, 3, 0, 4, 43, 2, 3, 0, 4, 43)"
      ]
     },
     "execution_count": 33,
     "metadata": {},
     "output_type": "execute_result"
    }
   ],
   "source": [
    "# tuple concatanation and multiplication works\n",
    "\n",
    "newtup=mytup + (43,)\n",
    "newtup*2"
   ]
  },
  {
   "cell_type": "code",
   "execution_count": 34,
   "metadata": {},
   "outputs": [
    {
     "data": {
      "text/plain": [
       "9"
      ]
     },
     "execution_count": 34,
     "metadata": {},
     "output_type": "execute_result"
    }
   ],
   "source": [
    "# tuple unpacing\n",
    "mytup=(4,5)\n",
    "x,y=mytup\n",
    "x+y"
   ]
  },
  {
   "cell_type": "code",
   "execution_count": 35,
   "metadata": {},
   "outputs": [
    {
     "name": "stdout",
     "output_type": "stream",
     "text": [
      "0\n",
      "[1, 2, 3]\n",
      "4\n"
     ]
    }
   ],
   "source": [
    "# Extended tuple unpacing \n",
    "# * catches all unassigned elements into a list.\n",
    "\n",
    "mytup = tuple(range(5))\n",
    "a,*b,c=mytup\n",
    "print(a)\n",
    "print(b)\n",
    "print(c)"
   ]
  },
  {
   "cell_type": "code",
   "execution_count": 36,
   "metadata": {},
   "outputs": [
    {
     "name": "stdout",
     "output_type": "stream",
     "text": [
      "0\n",
      "(1, 2, 3)\n",
      "4\n"
     ]
    }
   ],
   "source": [
    "# This can also be done with slicing\n",
    "\n",
    "a,b,c=mytup[0], mytup[1:-1], mytup[-1]\n",
    "print(a)\n",
    "print(b)\n",
    "print(c)"
   ]
  },
  {
   "cell_type": "code",
   "execution_count": null,
   "metadata": {},
   "outputs": [],
   "source": []
  },
  {
   "cell_type": "code",
   "execution_count": 37,
   "metadata": {},
   "outputs": [],
   "source": [
    "# Dictionaries: collection, key-value, mutable, unordered"
   ]
  },
  {
   "cell_type": "code",
   "execution_count": 38,
   "metadata": {},
   "outputs": [
    {
     "name": "stdout",
     "output_type": "stream",
     "text": [
      "{2: 4, 4: 5}\n",
      "4\n"
     ]
    }
   ],
   "source": [
    "dic={2:4, 4:5} # Anything  immutable (hashable) can be a key\n",
    "print(dic)\n",
    "print(dic[2])"
   ]
  },
  {
   "cell_type": "code",
   "execution_count": 39,
   "metadata": {},
   "outputs": [
    {
     "name": "stdout",
     "output_type": "stream",
     "text": [
      "3\n"
     ]
    }
   ],
   "source": [
    "# another way to create a dictionary\n",
    "# notice here quoted are not needed and = in place of :\n",
    "dic = dict(a=3,b=5)\n",
    "print(dic['a'])"
   ]
  },
  {
   "cell_type": "code",
   "execution_count": 40,
   "metadata": {},
   "outputs": [
    {
     "name": "stdout",
     "output_type": "stream",
     "text": [
      "{'a': 3, 'b': 5}\n",
      "{'b': 5}\n"
     ]
    }
   ],
   "source": [
    "# deleting an elemet \n",
    "\n",
    "dic={'a':3, 'b':5}\n",
    "print(dic)\n",
    "del dic['a']\n",
    "print(dic)"
   ]
  },
  {
   "cell_type": "code",
   "execution_count": 41,
   "metadata": {},
   "outputs": [
    {
     "name": "stdout",
     "output_type": "stream",
     "text": [
      "{'a': 3}\n",
      "5\n"
     ]
    }
   ],
   "source": [
    "# pop\n",
    "\n",
    "dic={'a':3, 'b':5}\n",
    "k = dic.pop('b')\n",
    "print(dic)\n",
    "print(k)"
   ]
  },
  {
   "cell_type": "code",
   "execution_count": 42,
   "metadata": {},
   "outputs": [
    {
     "name": "stdout",
     "output_type": "stream",
     "text": [
      "{'a': 1, 'b': 2}\n",
      "('c', 3)\n"
     ]
    }
   ],
   "source": [
    "# pop() does not work without an argument. popitem() returns the last item as a tuple and removes it.\n",
    "dic={'a':1, 'b':2, 'c':3}\n",
    "k = dic.popitem()\n",
    "print(dic)\n",
    "print(k)"
   ]
  },
  {
   "cell_type": "code",
   "execution_count": 43,
   "metadata": {},
   "outputs": [
    {
     "name": "stdout",
     "output_type": "stream",
     "text": [
      "1\n",
      "not present\n"
     ]
    }
   ],
   "source": [
    "# in opeartor \n",
    "\n",
    "if 'a' in dic: \n",
    "    print(dic['a'])\n",
    "   \n",
    "# this is safe to access an item\n",
    "# try-except can also be used\n",
    "\n",
    "try:\n",
    "    k=dic['d']\n",
    "    print(k)\n",
    "except:\n",
    "    print('not present')\n",
    "    "
   ]
  },
  {
   "cell_type": "code",
   "execution_count": 44,
   "metadata": {},
   "outputs": [
    {
     "name": "stdout",
     "output_type": "stream",
     "text": [
      "a\n",
      "b\n",
      "c\n",
      "a\n",
      "b\n",
      "c\n",
      "1\n",
      "2\n",
      "3\n",
      "('a', 1)\n",
      "('b', 2)\n",
      "('c', 3)\n"
     ]
    }
   ],
   "source": [
    "# for-in loop in dictionary\n",
    "\n",
    "dic={'a':1,'b':2,'c':3}\n",
    "for x in dic:\n",
    "    print(x)\n",
    "\n",
    "for x in dic.keys():\n",
    "    print(x)\n",
    "     \n",
    "for x in dic.values():\n",
    "    print(x)\n",
    "   \n",
    "for x in dic.items():\n",
    "    print(x)\n",
    "    "
   ]
  },
  {
   "cell_type": "code",
   "execution_count": 45,
   "metadata": {},
   "outputs": [
    {
     "name": "stdout",
     "output_type": "stream",
     "text": [
      "dict_keys(['a', 'b', 'c'])\n",
      "dict_values([1, 2, 3])\n",
      "dict_items([('a', 1), ('b', 2), ('c', 3)])\n"
     ]
    }
   ],
   "source": [
    "# These methods return a list \n",
    "\n",
    "print(dic.keys())\n",
    "print(dic.values())\n",
    "print(dic.items())"
   ]
  },
  {
   "cell_type": "code",
   "execution_count": 46,
   "metadata": {},
   "outputs": [],
   "source": [
    "# copying a dictionary\n",
    "newdic = dic.copy()\n",
    "\n",
    "# or \n",
    "newdic=dict(dic)\n"
   ]
  },
  {
   "cell_type": "code",
   "execution_count": 47,
   "metadata": {},
   "outputs": [
    {
     "name": "stdout",
     "output_type": "stream",
     "text": [
      "{'a': 1, 'b': 2}\n"
     ]
    }
   ],
   "source": [
    "# Even this works\n",
    "k=[('a',1),['b',2]]\n",
    "z=dict(k)\n",
    "print(z)"
   ]
  },
  {
   "cell_type": "code",
   "execution_count": 48,
   "metadata": {},
   "outputs": [
    {
     "name": "stdout",
     "output_type": "stream",
     "text": [
      "{'a': 1, 'b': 4, 'c': 5, 'd': 6}\n",
      "{'b': 4, 'c': 5, 'd': 6}\n"
     ]
    }
   ],
   "source": [
    "# Dictionary update\n",
    "\n",
    "dic1={'a':1,'b':2}\n",
    "dic2={'b':4,'c':5, 'd':6}\n",
    "dic1.update(dic2)\n",
    "print(dic1)\n",
    "print(dic2)"
   ]
  },
  {
   "cell_type": "code",
   "execution_count": 49,
   "metadata": {},
   "outputs": [
    {
     "data": {
      "text/plain": [
       "{1, 2, 3}"
      ]
     },
     "execution_count": 49,
     "metadata": {},
     "output_type": "execute_result"
    }
   ],
   "source": [
    "# Sets : collection, unorderd, mutable, no duplicates\n",
    "myset={1,1,2,3}\n",
    "myset"
   ]
  },
  {
   "cell_type": "code",
   "execution_count": 50,
   "metadata": {},
   "outputs": [
    {
     "data": {
      "text/plain": [
       "{'H', 'e', 'l', 'o'}"
      ]
     },
     "execution_count": 50,
     "metadata": {},
     "output_type": "execute_result"
    }
   ],
   "source": [
    "myset=set('Hello')\n",
    "myset"
   ]
  },
  {
   "cell_type": "code",
   "execution_count": 51,
   "metadata": {},
   "outputs": [
    {
     "name": "stdout",
     "output_type": "stream",
     "text": [
      "{'o', 'e', 'H', 'g', 'l'}\n"
     ]
    }
   ],
   "source": [
    "# add() : for adding one element\n",
    "myset.add('g')\n",
    "print(myset)"
   ]
  },
  {
   "cell_type": "code",
   "execution_count": 52,
   "metadata": {},
   "outputs": [
    {
     "name": "stdout",
     "output_type": "stream",
     "text": [
      "{0, 2, 3, 4, 'g'}\n"
     ]
    }
   ],
   "source": [
    "# add() : for adding one element\n",
    "\n",
    "myset={2,3,4,0}\n",
    "myset.add('g')\n",
    "print(myset)"
   ]
  },
  {
   "cell_type": "code",
   "execution_count": 53,
   "metadata": {},
   "outputs": [
    {
     "name": "stdout",
     "output_type": "stream",
     "text": [
      "{2, 3, 4}\n",
      "{2, 3, 4}\n"
     ]
    }
   ],
   "source": [
    "# remove():removes on element\n",
    "\n",
    "myset={2,3,0,4}\n",
    "myset.remove(0)\n",
    "\n",
    "print(myset)\n",
    "\n",
    "# remove gives key error if element does not exits\n",
    "# discard() : removes an element without givig key error\n",
    "\n",
    "myset.discard(0)\n",
    "print(myset)"
   ]
  },
  {
   "cell_type": "code",
   "execution_count": 54,
   "metadata": {},
   "outputs": [
    {
     "name": "stdout",
     "output_type": "stream",
     "text": [
      "set()\n"
     ]
    }
   ],
   "source": [
    "# clear() : clears the set\n",
    "myset={2,3,0,4}\n",
    "myset.clear()\n",
    "print(myset)"
   ]
  },
  {
   "cell_type": "code",
   "execution_count": 55,
   "metadata": {},
   "outputs": [
    {
     "name": "stdout",
     "output_type": "stream",
     "text": [
      "o\n",
      "h\n",
      "l\n"
     ]
    }
   ],
   "source": [
    "# pop() : returns an arbitrary value;\n",
    "myset=set(\"hello\")\n",
    "print(myset.pop())\n",
    "print(myset.pop())\n",
    "print(myset.pop())"
   ]
  },
  {
   "cell_type": "code",
   "execution_count": 56,
   "metadata": {},
   "outputs": [
    {
     "name": "stdout",
     "output_type": "stream",
     "text": [
      "0\n",
      "2\n",
      "3\n",
      "4\n"
     ]
    }
   ],
   "source": [
    "#  for in loop on set\n",
    "\n",
    "myset={2,3,0,4}\n",
    "for x in myset:\n",
    "    print(x)"
   ]
  },
  {
   "cell_type": "code",
   "execution_count": 57,
   "metadata": {},
   "outputs": [
    {
     "name": "stdout",
     "output_type": "stream",
     "text": [
      "yes\n"
     ]
    }
   ],
   "source": [
    "# in\n",
    "if 2 in myset:\n",
    "    print('yes')"
   ]
  },
  {
   "cell_type": "code",
   "execution_count": 58,
   "metadata": {},
   "outputs": [
    {
     "name": "stdout",
     "output_type": "stream",
     "text": [
      "{1, 3, 5, 7, 9}\n",
      "{8, 2, 4, 6}\n",
      "{2, 3, 5, 7}\n"
     ]
    }
   ],
   "source": [
    "# some sample sets\n",
    "odds=set(range(1,10,2))\n",
    "evens=set(range(2,10,2))\n",
    "primes={2,3,5,7}\n",
    "\n",
    "print(odds)\n",
    "print(evens)\n",
    "print(primes)"
   ]
  },
  {
   "cell_type": "code",
   "execution_count": 59,
   "metadata": {},
   "outputs": [
    {
     "name": "stdout",
     "output_type": "stream",
     "text": [
      "{1, 2, 3, 4, 5, 6, 7, 8, 9}\n"
     ]
    }
   ],
   "source": [
    "# union of sets\n",
    "u = odds.union(evens)\n",
    "print(u)"
   ]
  },
  {
   "cell_type": "code",
   "execution_count": 60,
   "metadata": {},
   "outputs": [
    {
     "data": {
      "text/plain": [
       "{1, 2, 3, 4, 5, 6, 7, 8, 9}"
      ]
     },
     "execution_count": 60,
     "metadata": {},
     "output_type": "execute_result"
    }
   ],
   "source": [
    "set(list(odds)+list(evens))"
   ]
  },
  {
   "cell_type": "code",
   "execution_count": 61,
   "metadata": {},
   "outputs": [
    {
     "name": "stdout",
     "output_type": "stream",
     "text": [
      "{3, 5, 7}\n"
     ]
    }
   ],
   "source": [
    "# intersection of sets\n",
    "i=odds.intersection(primes)\n",
    "print(i)"
   ]
  },
  {
   "cell_type": "code",
   "execution_count": 62,
   "metadata": {},
   "outputs": [
    {
     "name": "stdout",
     "output_type": "stream",
     "text": [
      "{1, 2, 3}\n"
     ]
    }
   ],
   "source": [
    "#difference of sets : common elements are removed form one set\n",
    "seta={1,2,3,4,5}\n",
    "setb={4,5,6,7,8}\n",
    "\n",
    "diff=seta.difference(setb)\n",
    "print(diff)"
   ]
  },
  {
   "cell_type": "code",
   "execution_count": 63,
   "metadata": {},
   "outputs": [
    {
     "name": "stdout",
     "output_type": "stream",
     "text": [
      "{1, 2, 3, 6, 7, 8}\n"
     ]
    }
   ],
   "source": [
    "# symmetric difference: common elements are removed and combined\n",
    "sydiff=seta.symmetric_difference(setb)\n",
    "print(sydiff)"
   ]
  },
  {
   "cell_type": "code",
   "execution_count": 64,
   "metadata": {},
   "outputs": [
    {
     "name": "stdout",
     "output_type": "stream",
     "text": [
      "{1, 2, 3, 4, 5, 6, 7, 8}\n"
     ]
    }
   ],
   "source": [
    "# If original set is to be changed then update() method to be used.\n",
    "seta.update(setb)\n",
    "print(seta)\n",
    "\n"
   ]
  },
  {
   "cell_type": "code",
   "execution_count": 65,
   "metadata": {},
   "outputs": [
    {
     "name": "stdout",
     "output_type": "stream",
     "text": [
      "{3, 4}\n"
     ]
    }
   ],
   "source": [
    "# intersection update\n",
    "\n",
    "seta={1,2,3,4}\n",
    "setb={3,4,5,6}\n",
    "seta.intersection_update(setb)\n",
    "print(seta)"
   ]
  },
  {
   "cell_type": "code",
   "execution_count": 66,
   "metadata": {},
   "outputs": [
    {
     "name": "stdout",
     "output_type": "stream",
     "text": [
      "{1, 2}\n"
     ]
    }
   ],
   "source": [
    "# difference update\n",
    "seta={1,2,3,4}\n",
    "setb={3,4,5,6}\n",
    "seta.difference_update(setb)\n",
    "print(seta)"
   ]
  },
  {
   "cell_type": "code",
   "execution_count": 67,
   "metadata": {},
   "outputs": [
    {
     "name": "stdout",
     "output_type": "stream",
     "text": [
      "{1, 2, 5, 6}\n"
     ]
    }
   ],
   "source": [
    "# symmetric difference update\n",
    "seta={1,2,3,4}\n",
    "setb={3,4,5,6}\n",
    "seta.symmetric_difference_update(setb)\n",
    "print(seta)"
   ]
  },
  {
   "cell_type": "code",
   "execution_count": 68,
   "metadata": {},
   "outputs": [
    {
     "name": "stdout",
     "output_type": "stream",
     "text": [
      "True\n",
      "True\n",
      "False\n"
     ]
    }
   ],
   "source": [
    "# issubset, issuperset, isdisjoint\n",
    "seta={1,4}\n",
    "setb={1,2,3,4}\n",
    "print(seta.issubset(setb))\n",
    "print(seta.issuperset(seta))\n",
    "print(seta.isdisjoint(setb))"
   ]
  },
  {
   "cell_type": "code",
   "execution_count": 69,
   "metadata": {},
   "outputs": [],
   "source": [
    "# frozenset for immutable set."
   ]
  },
  {
   "cell_type": "code",
   "execution_count": null,
   "metadata": {},
   "outputs": [],
   "source": []
  },
  {
   "cell_type": "code",
   "execution_count": null,
   "metadata": {},
   "outputs": [],
   "source": []
  },
  {
   "cell_type": "code",
   "execution_count": null,
   "metadata": {},
   "outputs": [],
   "source": []
  },
  {
   "cell_type": "code",
   "execution_count": null,
   "metadata": {},
   "outputs": [],
   "source": []
  },
  {
   "cell_type": "code",
   "execution_count": 70,
   "metadata": {},
   "outputs": [],
   "source": [
    "# Some discussion about immutibility.\n",
    "# id(object) : gives id of an object\n"
   ]
  },
  {
   "cell_type": "code",
   "execution_count": 71,
   "metadata": {},
   "outputs": [
    {
     "name": "stdout",
     "output_type": "stream",
     "text": [
      "140710918313728\n",
      "140710918313728\n",
      "140710918313728\n"
     ]
    },
    {
     "data": {
      "text/plain": [
       "True"
      ]
     },
     "execution_count": 71,
     "metadata": {},
     "output_type": "execute_result"
    }
   ],
   "source": [
    "a=256\n",
    "b=256\n",
    "print(id(a))\n",
    "print(id(b))\n",
    "print(id(256))\n",
    "\n",
    "# notice the same id\n",
    "a is b"
   ]
  },
  {
   "cell_type": "code",
   "execution_count": 72,
   "metadata": {},
   "outputs": [
    {
     "name": "stdout",
     "output_type": "stream",
     "text": [
      "1625035950960\n",
      "1625035950896\n",
      "1625035950064\n"
     ]
    },
    {
     "data": {
      "text/plain": [
       "False"
      ]
     },
     "execution_count": 72,
     "metadata": {},
     "output_type": "execute_result"
    }
   ],
   "source": [
    "a=257\n",
    "b=257\n",
    "print(id(a))\n",
    "print(id(b))\n",
    "print(id(257))\n",
    "\n",
    "# now notice the different id \n",
    "# python keeps an array of intergers between -5 and 256\n",
    "a is b"
   ]
  },
  {
   "cell_type": "code",
   "execution_count": 73,
   "metadata": {},
   "outputs": [
    {
     "data": {
      "text/plain": [
       "True"
      ]
     },
     "execution_count": 73,
     "metadata": {},
     "output_type": "execute_result"
    }
   ],
   "source": [
    "# is can be used to check equality of two objects\n",
    "a=2\n",
    "b=2\n",
    "a is b\n"
   ]
  },
  {
   "cell_type": "code",
   "execution_count": 74,
   "metadata": {},
   "outputs": [
    {
     "name": "stdout",
     "output_type": "stream",
     "text": [
      "[1, 2, 4]\n",
      "1625035359872\n",
      "[56, 2, 4]\n",
      "1625035359872\n"
     ]
    }
   ],
   "source": [
    "# id of mutable object does not change on mutation\n",
    "a=[1,2,4]\n",
    "print(a)\n",
    "print(id(a))\n",
    "a[0]=56\n",
    "print(a)\n",
    "print(id(a))"
   ]
  },
  {
   "cell_type": "code",
   "execution_count": 75,
   "metadata": {},
   "outputs": [],
   "source": [
    "# python immutabl objects\n",
    "# int, float, bool, string, tuple, frozenset\n",
    "# python mutable objects: lists, sets and dictionaries\n",
    "# an immutable object cannot be changed after creation.\n",
    "# however, it can be reassigned.\n",
    "# mutable objects like lists inside tuple can be changed.\n"
   ]
  },
  {
   "cell_type": "code",
   "execution_count": 76,
   "metadata": {},
   "outputs": [
    {
     "name": "stdout",
     "output_type": "stream",
     "text": [
      "hello world\n",
      "l\n"
     ]
    }
   ],
   "source": [
    "# Strings : ordered, immutable\n",
    "\n",
    "mystr=\"hello world\"\n",
    "\n",
    "print(mystr)\n",
    "print(mystr[2])\n"
   ]
  },
  {
   "cell_type": "code",
   "execution_count": 77,
   "metadata": {},
   "outputs": [],
   "source": [
    "#mystr[0]='k' # this is not supported due to string immutability."
   ]
  },
  {
   "cell_type": "code",
   "execution_count": 78,
   "metadata": {},
   "outputs": [
    {
     "name": "stdout",
     "output_type": "stream",
     "text": [
      "hello \n",
      "how are you\n"
     ]
    }
   ],
   "source": [
    "# Multi line strings\n",
    "\n",
    "mystr='''hello \n",
    "how are \\\n",
    "you'''\n",
    "print(mystr)\n",
    "\n",
    "# notice newline can be escaped with a backslash."
   ]
  },
  {
   "cell_type": "code",
   "execution_count": 79,
   "metadata": {},
   "outputs": [
    {
     "name": "stdout",
     "output_type": "stream",
     "text": [
      "e\n",
      "d\n",
      "2\n",
      "dlrow olleh\n"
     ]
    }
   ],
   "source": [
    "# With strings, indexing, reverse indexing and slicing is like lists.\n",
    "mystr=\"hello world\"\n",
    "print(mystr[1])\n",
    "print(mystr[-1])\n",
    "print(mystr.index('l'))\n",
    "print(mystr[::-1])"
   ]
  },
  {
   "cell_type": "code",
   "execution_count": 80,
   "metadata": {},
   "outputs": [
    {
     "name": "stdout",
     "output_type": "stream",
     "text": [
      "hello world\n"
     ]
    }
   ],
   "source": [
    "# string concatanation\n",
    "mystr=\"hello \"+\"world\"\n",
    "print(mystr)"
   ]
  },
  {
   "cell_type": "code",
   "execution_count": 81,
   "metadata": {},
   "outputs": [
    {
     "name": "stdout",
     "output_type": "stream",
     "text": [
      "h\n",
      "e\n",
      "l\n",
      "l\n",
      "o\n"
     ]
    }
   ],
   "source": [
    "# iterating over string\n",
    "mystr=\"hello\"\n",
    "for x in mystr:\n",
    "    print(x)"
   ]
  },
  {
   "cell_type": "code",
   "execution_count": 82,
   "metadata": {},
   "outputs": [
    {
     "name": "stdout",
     "output_type": "stream",
     "text": [
      "yes\n"
     ]
    }
   ],
   "source": [
    "# in operator\n",
    "\n",
    "if 'h' in mystr:\n",
    "    print('yes')"
   ]
  },
  {
   "cell_type": "code",
   "execution_count": 83,
   "metadata": {},
   "outputs": [
    {
     "name": "stdout",
     "output_type": "stream",
     "text": [
      "yes\n"
     ]
    }
   ],
   "source": [
    "#in operator works for substrings.\n",
    "\n",
    "if 'ello' in mystr:\n",
    "    print('yes')"
   ]
  },
  {
   "cell_type": "code",
   "execution_count": 84,
   "metadata": {},
   "outputs": [
    {
     "name": "stdout",
     "output_type": "stream",
     "text": [
      "     hello      world         \n",
      "hello      world\n"
     ]
    }
   ],
   "source": [
    "#stripping/trimming a string\n",
    "mystr=\"     hello      world         \"\n",
    "print(mystr)\n",
    "mystr=mystr.strip()\n",
    "print(mystr)\n",
    "\n",
    "# notice it only removes spaces form begining and end."
   ]
  },
  {
   "cell_type": "code",
   "execution_count": 85,
   "metadata": {},
   "outputs": [
    {
     "name": "stdout",
     "output_type": "stream",
     "text": [
      "HELLO WORLD\n",
      "hello world\n",
      "True\n",
      "True\n"
     ]
    }
   ],
   "source": [
    "# somestring methods\n",
    "\n",
    "mystr=\"Hello World\"\n",
    "print(mystr.upper())\n",
    "print(mystr.lower())\n",
    "print(mystr.startswith('H'))\n",
    "print(mystr.endswith('World'))\n",
    "\n"
   ]
  },
  {
   "cell_type": "code",
   "execution_count": 86,
   "metadata": {},
   "outputs": [
    {
     "name": "stdout",
     "output_type": "stream",
     "text": [
      "1\n",
      "-1\n"
     ]
    }
   ],
   "source": [
    "# finding inside string\n",
    "\n",
    "mystr=\"hello world\"\n",
    "print(mystr.find('ello'))\n",
    "print(mystr.find('something'))"
   ]
  },
  {
   "cell_type": "code",
   "execution_count": 87,
   "metadata": {},
   "outputs": [
    {
     "data": {
      "text/plain": [
       "6"
      ]
     },
     "execution_count": 87,
     "metadata": {},
     "output_type": "execute_result"
    }
   ],
   "source": [
    "# finding is also possible with index, however if it does not exist then error will apper.\n",
    "# therefore .find() is better to use. Or, in can be used to check first.\n",
    "\n",
    "mystr.index('wor')\n",
    "#mystr.index('kally') # this will throw an error.\n",
    "\n"
   ]
  },
  {
   "cell_type": "code",
   "execution_count": 88,
   "metadata": {},
   "outputs": [
    {
     "name": "stdout",
     "output_type": "stream",
     "text": [
      "3\n",
      "1\n"
     ]
    }
   ],
   "source": [
    "# Countng in string with .count()\n",
    "\n",
    "print(mystr.count('l'))\n",
    "print(mystr.count('ll')) \n",
    "\n",
    "# works for substrings as well\n"
   ]
  },
  {
   "cell_type": "code",
   "execution_count": 91,
   "metadata": {},
   "outputs": [
    {
     "name": "stdout",
     "output_type": "stream",
     "text": [
      "hello universe\n",
      "hello universe\n"
     ]
    }
   ],
   "source": [
    "#.replace()\n",
    "\n",
    "mystr='hello world'\n",
    "mystr=mystr.replace('world', 'universe')\n",
    "print(mystr)\n",
    "\n",
    "# if it does not find the match string it does nothing\n",
    "\n",
    "mystr=mystr.replace('anything', 'world')\n",
    "print(mystr)"
   ]
  },
  {
   "cell_type": "code",
   "execution_count": 104,
   "metadata": {},
   "outputs": [
    {
     "name": "stdout",
     "output_type": "stream",
     "text": [
      "['hello', 'world,', 'how', 'are', 'you']\n",
      "hello-world,-how-are-you\n"
     ]
    }
   ],
   "source": [
    "# .split(delimeter) : retuns a list\n",
    "mystr=\"hello world, how are you\"\n",
    "mylist = mystr.split()\n",
    "print(mylist)\n",
    "\n",
    "# converting back to string\n",
    "# String.join() is used to convert an iterator into a string.\n",
    "# separator.join(iterator)\n",
    "\n",
    "mystr= '-'.join(mylist)\n",
    "print(mystr)\n"
   ]
  },
  {
   "cell_type": "code",
   "execution_count": 132,
   "metadata": {},
   "outputs": [
    {
     "name": "stdout",
     "output_type": "stream",
     "text": [
      "0.33055830000012065\n",
      "0.00818459999982224\n",
      "40.38783813592601\n"
     ]
    }
   ],
   "source": [
    "# timing comparison of conventional joining and .join()\n",
    "\n",
    "from timeit import default_timer as timer\n",
    "\n",
    "start=timer()\n",
    "\n",
    "mylist=['a']*10**6\n",
    "mystr=\"\"\n",
    "for x in mylist:\n",
    "    mystr+=x+\" \"\n",
    "    pass\n",
    "    \n",
    "mid=timer()\n",
    "   \n",
    "mystr=\" \".join(mylist)\n",
    "end=timer()\n",
    "\n",
    "print(mid-start)\n",
    "print(end-mid)\n",
    "print((mid-start)/(end-mid))"
   ]
  },
  {
   "cell_type": "code",
   "execution_count": null,
   "metadata": {},
   "outputs": [],
   "source": []
  },
  {
   "cell_type": "code",
   "execution_count": null,
   "metadata": {},
   "outputs": [],
   "source": []
  },
  {
   "cell_type": "code",
   "execution_count": null,
   "metadata": {},
   "outputs": [],
   "source": []
  },
  {
   "cell_type": "code",
   "execution_count": null,
   "metadata": {},
   "outputs": [],
   "source": []
  },
  {
   "cell_type": "code",
   "execution_count": null,
   "metadata": {},
   "outputs": [],
   "source": []
  },
  {
   "cell_type": "code",
   "execution_count": 133,
   "metadata": {},
   "outputs": [],
   "source": [
    "# Collections : Counter, namedtuple, OrderedDict, defaultdict, deque"
   ]
  },
  {
   "cell_type": "code",
   "execution_count": 141,
   "metadata": {},
   "outputs": [
    {
     "name": "stdout",
     "output_type": "stream",
     "text": [
      "Counter({'c': 5, 'b': 4, 'a': 3})\n",
      "[('c', 5)]\n",
      "['a', 'a', 'a', 'b', 'b', 'b', 'b', 'c', 'c', 'c', 'c', 'c']\n"
     ]
    }
   ],
   "source": [
    "# Counter\n",
    "\n",
    "from collections import Counter\n",
    "a = \"abcabbccbacc\"\n",
    "counts=Counter(a)\n",
    "print(counts)\n",
    "\n",
    "print(counts.most_common(1))\n",
    "print(list(counts.elements()))\n"
   ]
  },
  {
   "cell_type": "code",
   "execution_count": 145,
   "metadata": {},
   "outputs": [
    {
     "name": "stdout",
     "output_type": "stream",
     "text": [
      "Point(x=1, y=-4)\n",
      "1 -4\n"
     ]
    }
   ],
   "source": [
    "# namedtuple\n",
    "\n",
    "from collections import namedtuple\n",
    "\n",
    "Point = namedtuple('Point', 'x, y')\n",
    "pt=Point(1,-4)\n",
    "print(pt)\n",
    "print(pt.x, pt.y)\n"
   ]
  },
  {
   "cell_type": "code",
   "execution_count": 146,
   "metadata": {},
   "outputs": [
    {
     "name": "stdout",
     "output_type": "stream",
     "text": [
      "OrderedDict([('a', 1), ('b', 3)])\n"
     ]
    }
   ],
   "source": [
    "# OrderedDict : latest version of dictionaries remembers order so it is useless now.\n",
    "\n",
    "from collections  import OrderedDict\n",
    "\n",
    "od=OrderedDict()\n",
    "od['a']=1\n",
    "od['b']=3\n",
    "print(od)"
   ]
  },
  {
   "cell_type": "code",
   "execution_count": 148,
   "metadata": {},
   "outputs": [
    {
     "name": "stdout",
     "output_type": "stream",
     "text": [
      "0\n"
     ]
    }
   ],
   "source": [
    "# defaultdict : same as normal dict but has a defalut value if key is not defined.\n",
    "\n",
    "from collections import defaultdict\n",
    "d=defaultdict(int)\n",
    "d['a']=1\n",
    "print(d['b'])\n",
    "\n",
    "# normal dict will throw an error here."
   ]
  },
  {
   "cell_type": "code",
   "execution_count": 166,
   "metadata": {},
   "outputs": [
    {
     "name": "stdout",
     "output_type": "stream",
     "text": [
      "deque([3, 1, 2])\n",
      "deque([3, 1])\n",
      "deque([1])\n",
      "deque([])\n",
      "deque([4, 5, 6])\n",
      "deque([3, 2, 1, 4, 5, 6])\n",
      "deque([6, 3, 2, 1, 4, 5])\n",
      "deque([2, 1, 4, 5, 6, 3])\n"
     ]
    }
   ],
   "source": [
    "# deque  : double ended que\n",
    "\n",
    "from collections import deque\n",
    "d=deque()\n",
    "\n",
    "d.append(1)\n",
    "d.append(2)\n",
    "d.appendleft(3)\n",
    "print(d)\n",
    "\n",
    "d.pop()\n",
    "print(d)\n",
    "\n",
    "d.popleft()\n",
    "print(d)\n",
    "\n",
    "d.clear()\n",
    "print(d)\n",
    "\n",
    "d.extend([4,5,6])\n",
    "print(d)\n",
    "\n",
    "d.extendleft([1,2,3])\n",
    "print(d)\n",
    "\n",
    "# notice the order in which extendleft adds elements\n",
    "\n",
    "d.rotate(1)\n",
    "print(d)\n",
    "\n",
    "d.rotate(-2)\n",
    "print(d)"
   ]
  },
  {
   "cell_type": "code",
   "execution_count": 167,
   "metadata": {},
   "outputs": [],
   "source": [
    "# itertools : product, permutations, combinations, accumulate, groupby and infinite iterators"
   ]
  },
  {
   "cell_type": "code",
   "execution_count": 171,
   "metadata": {},
   "outputs": [
    {
     "name": "stdout",
     "output_type": "stream",
     "text": [
      "[(1, 5), (1, 6), (3, 5), (3, 6)]\n"
     ]
    }
   ],
   "source": [
    "# product\n",
    "from itertools import product\n",
    "a=[1,3]\n",
    "b=[5,6]\n",
    "p=product(a,b)\n",
    "print(list(p))"
   ]
  },
  {
   "cell_type": "code",
   "execution_count": 175,
   "metadata": {},
   "outputs": [
    {
     "name": "stdout",
     "output_type": "stream",
     "text": [
      "[(1, 2), (1, 3), (2, 1), (2, 3), (3, 1), (3, 2)]\n"
     ]
    }
   ],
   "source": [
    "# permutations\n",
    "from itertools import permutations\n",
    "a=[1,2,3]\n",
    "perm=permutations(a,2)\n",
    "print(list(perm))"
   ]
  },
  {
   "cell_type": "code",
   "execution_count": 177,
   "metadata": {},
   "outputs": [
    {
     "name": "stdout",
     "output_type": "stream",
     "text": [
      "[(1, 2), (1, 3), (2, 3)]\n"
     ]
    }
   ],
   "source": [
    "# combinations\n",
    "from itertools import combinations\n",
    "a=[1,2,3]\n",
    "comb=combinations(a,2)\n",
    "print(list(comb))"
   ]
  },
  {
   "cell_type": "code",
   "execution_count": 178,
   "metadata": {},
   "outputs": [
    {
     "ename": "ImportError",
     "evalue": "cannot import name 'combinaiton_with_replacement' from 'itertools' (unknown location)",
     "output_type": "error",
     "traceback": [
      "\u001b[1;31m---------------------------------------------------------------------------\u001b[0m",
      "\u001b[1;31mImportError\u001b[0m                               Traceback (most recent call last)",
      "\u001b[1;32m<ipython-input-178-0b9f926fa2bd>\u001b[0m in \u001b[0;36m<module>\u001b[1;34m\u001b[0m\n\u001b[0;32m      1\u001b[0m \u001b[1;31m# combinations with replacement\u001b[0m\u001b[1;33m\u001b[0m\u001b[1;33m\u001b[0m\u001b[1;33m\u001b[0m\u001b[0m\n\u001b[1;32m----> 2\u001b[1;33m \u001b[1;32mfrom\u001b[0m \u001b[0mitertools\u001b[0m \u001b[1;32mimport\u001b[0m \u001b[0mcombinaiton_with_replacement\u001b[0m\u001b[1;33m\u001b[0m\u001b[1;33m\u001b[0m\u001b[0m\n\u001b[0m\u001b[0;32m      3\u001b[0m \u001b[0ma\u001b[0m\u001b[1;33m=\u001b[0m\u001b[1;33m[\u001b[0m\u001b[1;36m1\u001b[0m\u001b[1;33m,\u001b[0m\u001b[1;36m2\u001b[0m\u001b[1;33m,\u001b[0m\u001b[1;36m3\u001b[0m\u001b[1;33m]\u001b[0m\u001b[1;33m\u001b[0m\u001b[1;33m\u001b[0m\u001b[0m\n\u001b[0;32m      4\u001b[0m \u001b[0mcom\u001b[0m\u001b[1;33m=\u001b[0m\u001b[0mcombinatins_with_replacement\u001b[0m\u001b[1;33m(\u001b[0m\u001b[0ma\u001b[0m\u001b[1;33m,\u001b[0m\u001b[1;36m2\u001b[0m\u001b[1;33m)\u001b[0m\u001b[1;33m\u001b[0m\u001b[1;33m\u001b[0m\u001b[0m\n",
      "\u001b[1;31mImportError\u001b[0m: cannot import name 'combinaiton_with_replacement' from 'itertools' (unknown location)"
     ]
    }
   ],
   "source": [
    "# combinations with replacement\n",
    "from itertools import combinaiton_with_replacement\n",
    "a=[1,2,3]\n",
    "com=combinatins_with_replacement(a,2)"
   ]
  },
  {
   "cell_type": "code",
   "execution_count": null,
   "metadata": {},
   "outputs": [],
   "source": []
  }
 ],
 "metadata": {
  "kernelspec": {
   "display_name": "Python 3",
   "language": "python",
   "name": "python3"
  },
  "language_info": {
   "codemirror_mode": {
    "name": "ipython",
    "version": 3
   },
   "file_extension": ".py",
   "mimetype": "text/x-python",
   "name": "python",
   "nbconvert_exporter": "python",
   "pygments_lexer": "ipython3",
   "version": "3.8.3"
  }
 },
 "nbformat": 4,
 "nbformat_minor": 4
}
